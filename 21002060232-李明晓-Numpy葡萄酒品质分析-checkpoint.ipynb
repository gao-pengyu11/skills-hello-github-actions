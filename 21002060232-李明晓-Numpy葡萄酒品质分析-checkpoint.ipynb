{
 "cells": [
  {
   "cell_type": "markdown",
   "metadata": {},
   "source": [
    "# 一、基本信息\n",
    "\n",
    "1. 实验名称：葡萄酒品质分析\n",
    "2. 实验学时：2\n",
    "3. 实验类别：综合性\n",
    "4. 课程名称：数据分析基础（Python）\n",
    "5. 课程编号：12002CC019\n",
    "\n",
    "\n",
    "# 二、实验目的（预期学习效果）\n",
    "\n",
    "\n",
    "本实验应符合课程总体学习要求，促进以下预期效果的达成：\n",
    "* 掌握NumPy数组的创建、索引和切片、运算、读写以及数据统计和分析等知识；\n",
    "* 能够能够综合应用NumPy基础知识解决问题，具备基本的编程能力。\n",
    "\n",
    "涉及主要KT点包括：\n",
    "* KT6_NumPy多维数组\n",
    "* KT7_NumPy数组的索引和切片\n",
    "* KT8_NumPy数组的运算\n",
    "* KT9_NumPy数组的读写\n",
    "* KT10_NumPy中的数据统计与分析\n",
    "\n",
    "\n",
    "\n",
    "# 三、实验任务及原理\n",
    "\n",
    "实验任务说明：众所周知，葡萄酒的价格与其品质密切相关，本实验提供了某公司生产的某个批次的白葡萄酒的检测指标数据，这些数据保存在文件white_wine.csv中，共有3431条数据。\n",
    "\n",
    "要求读取数据文件，并对葡萄酒品质进行分析。\n",
    "\n",
    "本实验主要应用NumPy的相关知识完成，具体包括：\n",
    "* NumPy数组创建：通过NumPy库的array函数可以创建ndarray数组，通常来说，ndarray是一个通用的同构数据容器，即其中的所有元素都需要相同的类型。创建数据的函数语法格式如下：  \n",
    "&emsp; np.array(object, dtype, ndmin)  \n",
    "* NumPy数组的索引和切片：NumPy数组的索引和切片与list相似，NumPy数组的访问具有更灵活的方式，可以采用整数函数和布尔值索引。\n",
    "* NumPy数组的运算：Numpy数组可以不需要通过循环就完成批量的计算。当两个数组的形状相同时，Numpy中的基本运算（算术运算、比较运算等）都是元素级别的，也就是每个元素都参与运算。当运算中两个数组的形状不同使时,numpy将会自动触发广播机制。  \n",
    "* 数据统计与分析：NumPy数组常用的统计函数。"
   ]
  },
  {
   "cell_type": "markdown",
   "metadata": {},
   "source": [
    "\n",
    "# 四、实验环境\n",
    "\n",
    "实验仪器设备：计算机。\n",
    "\n",
    "实验软件：Jupyter Notebook。\n",
    "\n",
    "工具耗材：无。\n",
    "\n",
    "# 五、实验预习任务\n",
    "\n",
    "实验前，应复习本实验涉及的KT点，并完成前次布置的相关练习题目，并阅读相关参考性资料，做好实验前准备。\n",
    "\n",
    "# 六、实验过程（实验方案）\n"
   ]
  },
  {
   "cell_type": "markdown",
   "metadata": {},
   "source": [
    "## 葡萄酒品质分析"
   ]
  },
  {
   "cell_type": "markdown",
   "metadata": {},
   "source": [
    "1. 引入包，读取数据，显示前5行"
   ]
  },
  {
   "cell_type": "code",
   "execution_count": 1,
   "metadata": {},
   "outputs": [
    {
     "name": "stdout",
     "output_type": "stream",
     "text": [
      "['fixed acidity', 'volatile acidity', 'citric acid', 'residual sugar', 'chlorides', 'free sulfur dioxide', 'total sulfur dioxide', 'density', 'pH', 'sulphates', 'alcohol', 'quality']\n",
      "['7', '0.27', '0.36', '20.7', '0.045', '45', '170', '1.001', '3', '0.45', '8.8', '6']\n",
      "['8.1', '0.28', '0.4', '6.9', '0.05', '30', '97', '0.9951', '3.26', '0.44', '10.1', '6']\n",
      "['7.2', '0.23', '0.32', '8.5', '0.058', '47', '186', '0.9956', '3.19', '0.4', '9.9', '6']\n",
      "['7.2', '0.23', '0.32', '8.5', '0.058', '47', '186', '0.9956', '3.19', '0.4', '9.9', '6']\n"
     ]
    }
   ],
   "source": [
    "import csv\n",
    "import numpy as np\n",
    "\n",
    "f = open(\"data/white_wine.csv\", \"r\")\n",
    "reader = csv.reader(f)\n",
    "wine_list = []\n",
    "for row in reader:\n",
    "    wine_list.append(row)\n",
    "f.close()\n",
    "\n",
    "for i in range(5):\n",
    "    print(wine_list[i])"
   ]
  },
  {
   "cell_type": "markdown",
   "metadata": {},
   "source": [
    "2. 去掉第一行标题数据，将数据转换为float类型，显示“fixed acidity”列数据  \n",
    "提示：使用astype"
   ]
  },
  {
   "cell_type": "code",
   "execution_count": 2,
   "metadata": {},
   "outputs": [
    {
     "name": "stdout",
     "output_type": "stream",
     "text": [
      "[7.  8.1 7.2 ... 6.6 6.5 6. ]\n"
     ]
    }
   ],
   "source": [
    "wine_data = np.array(wine_list[1:])\n",
    "wine_data = wine_data.astype(float)\n",
    "print(wine_data[:,0])"
   ]
  },
  {
   "cell_type": "markdown",
   "metadata": {},
   "source": [
    "3. 查看白葡萄酒总共分为几种品质等级，都是哪些等级  \n",
    "提示：采用unique函数"
   ]
  },
  {
   "cell_type": "code",
   "execution_count": 3,
   "metadata": {},
   "outputs": [
    {
     "name": "stdout",
     "output_type": "stream",
     "text": [
      "白葡萄酒共有7种等级，分别是:[3. 4. 5. 6. 7. 8. 9.]\n"
     ]
    }
   ],
   "source": [
    "quality_count = np.unique(wine_data[:,11])\n",
    "count = len(quality_count)\n",
    "print(\"白葡萄酒共有{0}种等级，分别是:{1}\".format(count,quality_count))"
   ]
  },
  {
   "cell_type": "markdown",
   "metadata": {},
   "source": [
    "4. 统计每种等级葡萄酒的数量  \n",
    "提示：可以使用for循环遍历数组，进行累加；也可以采用更为简练的列表推导式实现"
   ]
  },
  {
   "cell_type": "code",
   "execution_count": 4,
   "metadata": {},
   "outputs": [
    {
     "name": "stdout",
     "output_type": "stream",
     "text": [
      "白葡萄酒等级分别是:[3. 4. 5. 6. 7. 8. 9.]，分别有[14, 115, 1020, 1539, 616, 123, 4]种。\n"
     ]
    }
   ],
   "source": [
    "count_all = [  sum(wine_data[:,11] == lmx)  for lmx in quality_count ]\n",
    "\n",
    "# quality_count, count_all = np.unique(wine_data[:,11],return_counts=True)\n",
    "print(\"白葡萄酒等级分别是:{0}，分别有{1}种。\".format(quality_count,count_all))"
   ]
  },
  {
   "cell_type": "markdown",
   "metadata": {},
   "source": [
    "5. 计算每个等级中，fixed acidity的和、均值、标准差、方差、最小值及最大值  \n",
    "提示：可以使用布尔值索引访问数组"
   ]
  },
  {
   "cell_type": "code",
   "execution_count": 5,
   "metadata": {},
   "outputs": [
    {
     "name": "stdout",
     "output_type": "stream",
     "text": [
      "等级3.0的和为105.50、均值为7.54、标准差为1.51、方差为2.27、最小值为5.80、最大值为11.80\n",
      "等级4.0的和为811.00、均值为7.05、标准差为1.02、方差为1.03、最小值为4.80、最大值为10.20\n",
      "等级5.0的和为7046.00、均值为6.91、标准差为0.83、方差为0.69、最小值为4.50、最大值为10.30\n",
      "等级6.0的和为10483.80、均值为6.81、标准差为0.86、方差为0.74、最小值为3.80、最大值为14.20\n",
      "等级7.0的和为4161.60、均值为6.76、标准差为0.76、方差为0.58、最小值为4.20、最大值为9.20\n",
      "等级8.0的和为825.10、均值为6.71、标准差为0.74、方差为0.55、最小值为4.90、最大值为8.20\n",
      "等级9.0的和为30.00、均值为7.50、标准差为0.97、方差为0.93、最小值为6.60、最大值为9.10\n"
     ]
    }
   ],
   "source": [
    "for q in quality_count:\n",
    "    mask = (wine_data[:,11] == q)\n",
    "    data = wine_data[:,0][mask]\n",
    "    print(\"等级{0}的和为{1:.2f}、均值为{2:.2f}、标准差为{3:.2f}、方差为{4:.2f}、最小值为{5:.2f}、最大值为{6:.2f}\"\n",
    "          .format(q,np.sum(data),np.mean(data),\n",
    "                  np.std(data),np.var(data),np.min(data),np.max(data)))"
   ]
  },
  {
   "cell_type": "markdown",
   "metadata": {},
   "source": [
    "## 拓展"
   ]
  },
  {
   "cell_type": "markdown",
   "metadata": {},
   "source": [
    "6. 查询“quality”为6的所有数据  \n",
    "提示：试一试argwhere函数"
   ]
  },
  {
   "cell_type": "code",
   "execution_count": 6,
   "metadata": {},
   "outputs": [
    {
     "data": {
      "text/plain": [
       "array([[[ 7.  ,  0.27,  0.36, ...,  0.45,  8.8 ,  6.  ]],\n",
       "\n",
       "       [[ 8.1 ,  0.28,  0.4 , ...,  0.44, 10.1 ,  6.  ]],\n",
       "\n",
       "       [[ 7.2 ,  0.23,  0.32, ...,  0.4 ,  9.9 ,  6.  ]],\n",
       "\n",
       "       ...,\n",
       "\n",
       "       [[ 6.2 ,  0.21,  0.29, ...,  0.5 , 11.2 ,  6.  ]],\n",
       "\n",
       "       [[ 6.5 ,  0.24,  0.19, ...,  0.46,  9.4 ,  6.  ]],\n",
       "\n",
       "       [[ 6.  ,  0.21,  0.38, ...,  0.32, 11.8 ,  6.  ]]])"
      ]
     },
     "execution_count": 6,
     "metadata": {},
     "output_type": "execute_result"
    }
   ],
   "source": [
    "wine_data[np.argwhere(wine_data[:,11] == 6),:]"
   ]
  },
  {
   "cell_type": "markdown",
   "metadata": {},
   "source": [
    "7. 按照“quality”列对数据从小到大进行排序，显示排序结果  \n",
    "提示：试一试argsort函数"
   ]
  },
  {
   "cell_type": "code",
   "execution_count": 7,
   "metadata": {},
   "outputs": [
    {
     "data": {
      "text/plain": [
       "array([[ 9.4 ,  0.24,  0.29, ...,  0.38, 11.  ,  3.  ],\n",
       "       [ 6.9 ,  0.39,  0.4 , ...,  0.37, 12.6 ,  3.  ],\n",
       "       [ 7.5 ,  0.32,  0.24, ...,  0.5 ,  9.1 ,  3.  ],\n",
       "       ...,\n",
       "       [ 9.1 ,  0.27,  0.45, ...,  0.46, 10.4 ,  9.  ],\n",
       "       [ 7.4 ,  0.24,  0.36, ...,  0.48, 12.5 ,  9.  ],\n",
       "       [ 6.9 ,  0.36,  0.34, ...,  0.36, 12.7 ,  9.  ]])"
      ]
     },
     "execution_count": 7,
     "metadata": {},
     "output_type": "execute_result"
    }
   ],
   "source": [
    "wine_data[wine_data[:,11].argsort()]"
   ]
  },
  {
   "cell_type": "markdown",
   "metadata": {},
   "source": [
    "# 七、实验课后任务\n",
    "\n",
    "学生应当完成本次实验涉及相关任务，完成本次Jupyter Notebook实验报告以后，应将本实验报告文件（.ipynb）按照授课教师指定方式进行上传。\n",
    "\n",
    "\n",
    "# 八、实验考核\n",
    "\n",
    "实验满分100分，共7个任务，其中拓展任务2个，任务1-任务5每个20分，并且根据任务6和任务7完成情况进行酌情加分。按照学生完成任务的程度、代码运行结果、分析结果等质量标准酌情给出对应分数。\n",
    "\n",
    "# 九、实验资源\n",
    "本实验提供实验用数据文件：\n",
    "* \n",
    "白葡萄酒数据文件：white_wine.csv"
   ]
  }
 ],
 "metadata": {
  "interpreter": {
   "hash": "6dffc653d8d603152ac410dd70b3295fefd05fb3f0a31211f6c43917d5589b20"
  },
  "jupytext": {
   "cell_metadata_filter": "-all",
   "formats": "ipynb,md",
   "notebook_metadata_filter": "-all"
  },
  "kernelspec": {
   "display_name": "Python 3",
   "language": "python",
   "name": "python3"
  },
  "language_info": {
   "codemirror_mode": {
    "name": "ipython",
    "version": 3
   },
   "file_extension": ".py",
   "mimetype": "text/x-python",
   "name": "python",
   "nbconvert_exporter": "python",
   "pygments_lexer": "ipython3",
   "version": "3.8.5"
  }
 },
 "nbformat": 4,
 "nbformat_minor": 2
}
